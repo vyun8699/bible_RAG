{
 "cells": [
  {
   "cell_type": "markdown",
   "metadata": {},
   "source": [
    "### Similarity search and MMR search"
   ]
  },
  {
   "cell_type": "code",
   "execution_count": 4,
   "metadata": {},
   "outputs": [],
   "source": [
    "# Import required libraries\n",
    "import pandas as pd\n",
    "import numpy as np\n",
    "\n",
    "#for creating embeddings\n",
    "import pandas as pd\n",
    "import os\n",
    "import shutil\n",
    "import time\n",
    "import json\n",
    "import chromadb\n",
    "from langchain.embeddings import OpenAIEmbeddings\n",
    "from langchain.docstore.document import Document\n",
    "from langchain.vectorstores import Chroma\n",
    "\n",
    "\n",
    "#Semantic Search functionality\n",
    "from langchain_openai.chat_models import ChatOpenAI\n",
    "from langchain.retrievers.self_query.base import SelfQueryRetriever\n",
    "from langchain.chains.query_constructor.base import AttributeInfo\n",
    "\n",
    "#QA functionality\n",
    "from langchain.chains import create_retrieval_chain\n",
    "from langchain.chains.combine_documents import create_stuff_documents_chain\n",
    "from langchain.prompts import PromptTemplate\n",
    "\n",
    "#Chat functionality\n",
    "from langchain.memory import ConversationBufferMemory\n",
    "from langchain.chains import ConversationalRetrievalChain\n",
    "\n",
    "## Warning control\n",
    "import warnings\n",
    "warnings.filterwarnings(\"ignore\")"
   ]
  },
  {
   "cell_type": "code",
   "execution_count": 5,
   "metadata": {},
   "outputs": [],
   "source": [
    "embeddings_model = OpenAIEmbeddings()\n",
    "\n",
    "client = chromadb.PersistentClient(path='assets/bible/chromadb')\n",
    "vectorstore = Chroma(client=client, embedding_function=embeddings_model, persist_directory='assets/bible/chromadb')\n",
    "\n",
    "#query function (similarity search)\n",
    "def ask_bible_sr(question, k=3):\n",
    "    docs = vectorstore.similarity_search(question, k=k)\n",
    "    print(f\"Question: {question}\\n\")\n",
    "    for i, doc in enumerate(docs):\n",
    "        print(f\"Response {i+1}:\")\n",
    "        print(f\"Text: {doc.page_content}\")\n",
    "        print(f\"Book: {doc.metadata['book']}, Chapter: {doc.metadata['chapter']}, Verse: {doc.metadata['verse']}\\n\")\n",
    "\n",
    "def ask_bible_mmr(question, k=3):\n",
    "    docs = vectorstore.max_marginal_relevance_search(question, k=k)\n",
    "    print(f\"Question: {question}\\n\")\n",
    "    for i, doc in enumerate(docs):\n",
    "        print(f\"Response {i+1}:\")\n",
    "        print(f\"Text: {doc.page_content}\")\n",
    "        print(f\"Book: {doc.metadata['book']}, Chapter: {doc.metadata['chapter']}, Verse: {doc.metadata['verse']}\\n\")"
   ]
  },
  {
   "cell_type": "code",
   "execution_count": 6,
   "metadata": {},
   "outputs": [
    {
     "data": {
      "text/plain": [
       "{'book': 'Genesis', 'chapter': 1, 'verse': 1}"
      ]
     },
     "execution_count": 6,
     "metadata": {},
     "output_type": "execute_result"
    }
   ],
   "source": [
    "vectorstore.get()['metadatas'][0]"
   ]
  },
  {
   "cell_type": "code",
   "execution_count": 20,
   "metadata": {},
   "outputs": [
    {
     "name": "stdout",
     "output_type": "stream",
     "text": [
      "0.4.0\n"
     ]
    }
   ],
   "source": [
    "import chromadb\n",
    "\n",
    "print(chromadb.__version__)"
   ]
  },
  {
   "cell_type": "code",
   "execution_count": 7,
   "metadata": {},
   "outputs": [
    {
     "name": "stdout",
     "output_type": "stream",
     "text": [
      "Question: Who is adam?\n",
      "\n",
      "Response 1:\n",
      "Text: For Adam was first formed, then Eve.\n",
      "Book: 1 Timothy, Chapter: 2, Verse: 13\n",
      "\n",
      "Response 2:\n",
      "Text: Adam, Sheth, Enosh,\n",
      "Book: 1 Chronicles, Chapter: 1, Verse: 1\n",
      "\n",
      "Response 3:\n",
      "Text: This [is] the book of the generations of Adam. In the day that God created man, in the likeness of God made he him;\n",
      "Book: Genesis, Chapter: 5, Verse: 1\n",
      "\n"
     ]
    }
   ],
   "source": [
    "ask_bible_sr(\"Who is adam?\", k=3)"
   ]
  },
  {
   "cell_type": "code",
   "execution_count": 8,
   "metadata": {},
   "outputs": [
    {
     "name": "stdout",
     "output_type": "stream",
     "text": [
      "Question: Who is adam?\n",
      "\n",
      "Response 1:\n",
      "Text: For Adam was first formed, then Eve.\n",
      "Book: 1 Timothy, Chapter: 2, Verse: 13\n",
      "\n",
      "Response 2:\n",
      "Text: Adam, Sheth, Enosh,\n",
      "Book: 1 Chronicles, Chapter: 1, Verse: 1\n",
      "\n",
      "Response 3:\n",
      "Text: And the LORD God called unto Adam, and said unto him, Where [art] thou?\n",
      "Book: Genesis, Chapter: 3, Verse: 9\n",
      "\n"
     ]
    }
   ],
   "source": [
    "ask_bible_mmr(\"Who is adam?\", k=3)"
   ]
  },
  {
   "cell_type": "code",
   "execution_count": 9,
   "metadata": {},
   "outputs": [
    {
     "name": "stdout",
     "output_type": "stream",
     "text": [
      "Metadata examples: [{'book': 'Genesis', 'chapter': 1, 'verse': 1}, {'book': 'Genesis', 'chapter': 1, 'verse': 2}, {'book': 'Genesis', 'chapter': 1, 'verse': 3}]\n",
      "\n",
      "Document: In the beginning God created the heaven and the earth. ...\n",
      "Metadata: {'book': 'Genesis', 'chapter': 1, 'verse': 1}\n",
      "\n",
      "Document: And the earth was without form, and void; and darkness [was] upon the face of the deep. And the Spir ...\n",
      "Metadata: {'book': 'Genesis', 'chapter': 1, 'verse': 2}\n",
      "\n",
      "Document: And God said, Let there be light: and there was light. ...\n",
      "Metadata: {'book': 'Genesis', 'chapter': 1, 'verse': 3}\n"
     ]
    }
   ],
   "source": [
    "#show example metadata\n",
    "documents = vectorstore._collection.get()\n",
    "print(\"Metadata examples:\", documents[\"metadatas\"][:3])  # Print first 3 metadata entries\n",
    "\n",
    "# OR to see everything in a more readable format:\n",
    "for doc, metadata in zip(documents[\"documents\"][:3], documents[\"metadatas\"][:3]):\n",
    "    print(\"\\nDocument:\", doc[:100], \"...\")  # First 100 chars of document\n",
    "    print(\"Metadata:\", metadata)"
   ]
  },
  {
   "cell_type": "markdown",
   "metadata": {},
   "source": [
    "### Q&A Search"
   ]
  },
  {
   "cell_type": "code",
   "execution_count": 10,
   "metadata": {},
   "outputs": [],
   "source": [
    "metadata_field_info = [\n",
    "    AttributeInfo(\n",
    "        name=\"book\",\n",
    "        description=\"The book of the Bible\",\n",
    "        type=\"string\",\n",
    "    ),\n",
    "    AttributeInfo(\n",
    "        name=\"chapter\",\n",
    "        description=\"The chapter from the book of the Bible\",\n",
    "        type=\"integer\",\n",
    "    ),\n",
    "    AttributeInfo(\n",
    "        name=\"verse\",\n",
    "        description=\"The verse from the chapter of the book of the Bible\",\n",
    "        type=\"integer\",\n",
    "    ),\n",
    "]"
   ]
  },
  {
   "cell_type": "code",
   "execution_count": 11,
   "metadata": {},
   "outputs": [
    {
     "data": {
      "text/plain": [
       "{'input': 'Who was jesus christ?',\n",
       " 'context': [Document(page_content='The beginning of the gospel of Jesus Christ, the Son of God;', metadata={'book': 'Mark', 'chapter': 1, 'verse': 1}),\n",
       "  Document(page_content='He answered and said, Who is he, Lord, that I might believe on him?', metadata={'book': 'John', 'chapter': 9, 'verse': 36}),\n",
       "  Document(page_content='Is Christ divided? was Paul crucified for you? or were ye baptized in the name of Paul?', metadata={'book': '1 Corinthians', 'chapter': 1, 'verse': 13})],\n",
       " 'answer': 'Jesus Christ is referred to as the Son of God and is central to the Christian faith. He is believed to be the Messiah and the one who brings salvation to humanity. The gospel accounts describe his teachings, crucifixion, and resurrection. In the context provided, he is distinguished from other figures like Paul, emphasizing his unique role in Christianity.'}"
      ]
     },
     "execution_count": 11,
     "metadata": {},
     "output_type": "execute_result"
    }
   ],
   "source": [
    "# Define QA function and prompt template\n",
    "def QA(question, k = 5, fetch_k = 30):\n",
    "\n",
    "    #define llm\n",
    "    llm = ChatOpenAI(model='gpt-4o-mini', temperature=0)\n",
    "\n",
    "    #define retriever\n",
    "    document_content_description = \"The holy bible\"\n",
    "    llm = ChatOpenAI(model='gpt-4o-mini', temperature=0)\n",
    "    retriever = SelfQueryRetriever.from_llm(\n",
    "        llm,\n",
    "        vectorstore,\n",
    "        document_content_description,\n",
    "        metadata_field_info,\n",
    "        verbose=False\n",
    "    )\n",
    "\n",
    "    #define prompt template\n",
    "    template = \"\"\"Use the following pieces of context to answer the question at the end. \\n\n",
    "    If you don't know the answer, just say that you don't know, don't try to make up an answer. \\n\n",
    "    Use five sentences maximum. Keep the answer as concise as possible.  \\n\n",
    "    <context>\n",
    "    {context}\n",
    "    </context>\n",
    "\n",
    "    Question: {input}\n",
    "    Helpful Answer:\"\"\"\n",
    "    retrieval_qa_chat_prompt = PromptTemplate.from_template(template)\n",
    "\n",
    "    combine_docs_chain = create_stuff_documents_chain(llm, retrieval_qa_chat_prompt)\n",
    "    rag_chain = create_retrieval_chain(vectorstore.as_retriever(search_type = 'mmr', search_kwargs={'k':k, 'fetch_k':fetch_k}), combine_docs_chain)\n",
    "    output = rag_chain.invoke({\"input\": question})\n",
    "\n",
    "    return output\n",
    "\n",
    "question = \"Who was jesus christ?\"\n",
    "QA(question, k=3, fetch_k= 30)\n"
   ]
  },
  {
   "cell_type": "markdown",
   "metadata": {},
   "source": [
    "### QA functionality (type 2)"
   ]
  },
  {
   "cell_type": "code",
   "execution_count": 12,
   "metadata": {},
   "outputs": [],
   "source": [
    "from langchain_core.prompts import ChatPromptTemplate\n",
    "\n",
    "#define llm\n",
    "llm = ChatOpenAI(model='gpt-4o-mini', temperature=0)\n",
    "\n",
    "#define retriever\n",
    "document_content_description = \"The holy bible\"\n",
    "\n",
    "retriever = vectorstore.as_retriever(\n",
    "    search_type = 'mmr', \n",
    "    search_kwargs={'k':10, 'fetch_k':30}\n",
    "    )\n",
    "\n",
    "#define prompt template\n",
    "system_prompt = (\n",
    "    \"You are an assistant for question-answering tasks. \"\n",
    "    \"Use the following pieces of retrieved context to answer the question at the end. \"\n",
    "    \"If you don't know the answer, just say that you don't know, do not try to make up an answer. \"\n",
    "    \"Use five sentences maximum. \"\n",
    "    \"Keep the answer as concise as possible. \"\n",
    "    \"\\n\\n\"\n",
    "    \"{context}\"\n",
    ")\n",
    "\n",
    "prompt = ChatPromptTemplate.from_messages(\n",
    "    [\n",
    "        (\"system\", system_prompt),\n",
    "        (\"human\", \"{input}\")\n",
    "    ]\n",
    ")\n",
    "\n",
    "question_answer_chain = create_stuff_documents_chain(llm, prompt)\n",
    "rag_chain = create_retrieval_chain(retriever, question_answer_chain)"
   ]
  },
  {
   "cell_type": "code",
   "execution_count": 13,
   "metadata": {},
   "outputs": [
    {
     "data": {
      "text/plain": [
       "{'input': 'who was jesus?',\n",
       " 'context': [Document(page_content='The beginning of the gospel of Jesus Christ, the Son of God;', metadata={'book': 'Mark', 'chapter': 1, 'verse': 1}),\n",
       "  Document(page_content='And knew her not till she had brought forth her firstborn son: and he called his name JESUS.', metadata={'book': 'Matthew', 'chapter': 1, 'verse': 25}),\n",
       "  Document(page_content='And I said, Who art thou, Lord? And he said, I am Jesus whom thou persecutest.', metadata={'book': 'Acts', 'chapter': 26, 'verse': 15}),\n",
       "  Document(page_content='And the multitude said, This is Jesus the prophet of Nazareth of Galilee.', metadata={'book': 'Matthew', 'chapter': 21, 'verse': 11}),\n",
       "  Document(page_content='Be it known unto you all, and to all the people of Israel, that by the name of Jesus Christ of Nazareth, whom ye crucified, whom God raised from the dead, [even] by him doth this man stand here before you whole.', metadata={'book': 'Acts', 'chapter': 4, 'verse': 10}),\n",
       "  Document(page_content='When Jesus came into the coasts of Caesarea Philippi, he asked his disciples, saying, Whom do men say that I the Son of man am?', metadata={'book': 'Matthew', 'chapter': 16, 'verse': 13}),\n",
       "  Document(page_content='Concerning his Son Jesus Christ our Lord, which was made of the seed of David according to the flesh;', metadata={'book': 'Romans', 'chapter': 1, 'verse': 3}),\n",
       "  Document(page_content='For I determined not to know any thing among you, save Jesus Christ, and him crucified.', metadata={'book': '1 Corinthians', 'chapter': 2, 'verse': 2}),\n",
       "  Document(page_content='Come, see a man, which told me all things that ever I did: is not this the Christ?', metadata={'book': 'John', 'chapter': 4, 'verse': 29}),\n",
       "  Document(page_content='How God anointed Jesus of Nazareth with the Holy Ghost and with power: who went about doing good, and healing all that were oppressed of the devil; for God was with him.', metadata={'book': 'Acts', 'chapter': 10, 'verse': 38})],\n",
       " 'answer': 'Jesus is recognized as the Son of God and a central figure in Christianity. He is described as a prophet from Nazareth of Galilee, known for his teachings, miracles, and crucifixion. According to Christian belief, he was anointed by God and performed acts of healing and good. Jesus is also referred to as the Christ, which means the anointed one. He is considered the Messiah in Christian theology, fulfilling prophecies from the Old Testament.'}"
      ]
     },
     "execution_count": 13,
     "metadata": {},
     "output_type": "execute_result"
    }
   ],
   "source": [
    "question = 'who was jesus?'\n",
    "response = rag_chain.invoke({\"input\": question})\n",
    "response\n"
   ]
  },
  {
   "cell_type": "markdown",
   "metadata": {},
   "source": [
    "### Chat functionality"
   ]
  },
  {
   "cell_type": "code",
   "execution_count": 14,
   "metadata": {},
   "outputs": [],
   "source": [
    "from langchain.chains import create_history_aware_retriever\n",
    "from langchain_core.prompts import MessagesPlaceholder\n",
    "\n",
    "contextualize_q_system_prompt = (\n",
    "    \"Given a chat history and the latest user question \"\n",
    "    \"which might reference context in the chat history, \"\n",
    "    \"formulate a standalone question which can be understood \"\n",
    "    \"without the chat history. Do NOT answer the question, \"\n",
    "    \"just reformulate it if needed and otherwise return it as is.\"\n",
    ")\n",
    "\n",
    "contextualize_q_prompt = ChatPromptTemplate.from_messages(\n",
    "    [\n",
    "        (\"system\", contextualize_q_system_prompt),\n",
    "        MessagesPlaceholder(\"chat_history\"),\n",
    "        (\"human\", \"{input}\"),\n",
    "    ]\n",
    ")\n",
    "history_aware_retriever = create_history_aware_retriever(\n",
    "    llm, retriever, contextualize_q_prompt\n",
    ")"
   ]
  },
  {
   "cell_type": "code",
   "execution_count": 15,
   "metadata": {},
   "outputs": [],
   "source": [
    "qa_prompt = ChatPromptTemplate.from_messages(\n",
    "    [\n",
    "        (\"system\", system_prompt),\n",
    "        MessagesPlaceholder(\"chat_history\"),\n",
    "        (\"human\", \"{input}\"),\n",
    "    ]\n",
    ")\n",
    "\n",
    "\n",
    "question_answer_chain = create_stuff_documents_chain(llm, qa_prompt)\n",
    "rag_chain = create_retrieval_chain(history_aware_retriever, question_answer_chain)\n"
   ]
  },
  {
   "cell_type": "code",
   "execution_count": 18,
   "metadata": {},
   "outputs": [
    {
     "name": "stdout",
     "output_type": "stream",
     "text": [
      "John the Baptist was executed by beheading. This occurred after he was imprisoned by King Herod Antipas, who was influenced by Herodias, the wife of his brother Philip. Herodias held a grudge against John for condemning her marriage to Herod. During a banquet, Herodias' daughter danced for Herod, and he promised to grant her any request, which she fulfilled by asking for John's head on a platter.\n"
     ]
    }
   ],
   "source": [
    "from langchain_core.messages import AIMessage, HumanMessage\n",
    "\n",
    "chat_history = []\n",
    "\n",
    "question = \"Who was john the baptist?\"\n",
    "ai_msg_1 = rag_chain.invoke({\"input\": question, \"chat_history\": chat_history})\n",
    "chat_history.extend(\n",
    "    [\n",
    "        HumanMessage(content=question),\n",
    "        AIMessage(content=ai_msg_1[\"answer\"]),\n",
    "    ]\n",
    ")\n",
    "\n",
    "second_question = \"How did he die?\"\n",
    "ai_msg_2 = rag_chain.invoke({\"input\": second_question, \"chat_history\": chat_history})\n",
    "\n",
    "print(ai_msg_2[\"answer\"])"
   ]
  },
  {
   "cell_type": "code",
   "execution_count": 19,
   "metadata": {},
   "outputs": [
    {
     "data": {
      "text/plain": [
       "{'input': 'How did he die?',\n",
       " 'chat_history': [HumanMessage(content='Who was john the baptist?'),\n",
       "  AIMessage(content='John the Baptist was a prophet who preached in the wilderness of Judea and is known for baptizing Jesus. He was sent from God and is recognized as a significant figure in Christianity, often regarded as the forerunner to Christ. John baptized with water and called people to repentance, emphasizing the coming of one greater than himself. He is considered one of the greatest prophets, as stated in the scriptures. His ministry and eventual martyrdom are key events in the New Testament.')],\n",
       " 'context': [Document(page_content='In those days came John the Baptist, preaching in the wilderness of Judaea,', metadata={'book': 'Matthew', 'chapter': 3, 'verse': 1}),\n",
       "  Document(page_content='The baptism of John, was it from heaven, or of men?', metadata={'book': 'Luke', 'chapter': 20, 'verse': 4}),\n",
       "  Document(page_content='And said unto his servants, This is John the Baptist; he is risen from the dead; and therefore mighty works do shew forth themselves in him.', metadata={'book': 'Matthew', 'chapter': 14, 'verse': 2}),\n",
       "  Document(page_content='This man was instructed in the way of the Lord; and being fervent in the spirit, he spake and taught diligently the things of the Lord, knowing only the baptism of John.', metadata={'book': 'Acts', 'chapter': 18, 'verse': 25}),\n",
       "  Document(page_content='And they answered, John the Baptist: but some [say], Elias; and others, One of the prophets.', metadata={'book': 'Mark', 'chapter': 8, 'verse': 28}),\n",
       "  Document(page_content='And she, being before instructed of her mother, said, Give me here John Baptist’s head in a charger.', metadata={'book': 'Matthew', 'chapter': 14, 'verse': 8}),\n",
       "  Document(page_content='When Jesus therefore had received the vinegar, he said, It is finished: and he bowed his head, and gave up the ghost.', metadata={'book': 'John', 'chapter': 19, 'verse': 30}),\n",
       "  Document(page_content='And he killed James the brother of John with the sword.', metadata={'book': 'Acts', 'chapter': 12, 'verse': 2}),\n",
       "  Document(page_content='But John forbad him, saying, I have need to be baptized of thee, and comest thou to me?', metadata={'book': 'Matthew', 'chapter': 3, 'verse': 14}),\n",
       "  Document(page_content='For John the Baptist came neither eating bread nor drinking wine; and ye say, He hath a devil.', metadata={'book': 'Luke', 'chapter': 7, 'verse': 33})],\n",
       " 'answer': \"John the Baptist was executed by beheading. This occurred after he was imprisoned by King Herod Antipas, who was influenced by Herodias, the wife of his brother Philip. Herodias held a grudge against John for condemning her marriage to Herod. During a banquet, Herodias' daughter danced for Herod, and he promised to grant her any request, which she fulfilled by asking for John's head on a platter.\"}"
      ]
     },
     "execution_count": 19,
     "metadata": {},
     "output_type": "execute_result"
    }
   ],
   "source": [
    "ai_msg_2"
   ]
  }
 ],
 "metadata": {
  "kernelspec": {
   "display_name": "3.11.9",
   "language": "python",
   "name": "python3"
  },
  "language_info": {
   "codemirror_mode": {
    "name": "ipython",
    "version": 3
   },
   "file_extension": ".py",
   "mimetype": "text/x-python",
   "name": "python",
   "nbconvert_exporter": "python",
   "pygments_lexer": "ipython3",
   "version": "3.11.9"
  }
 },
 "nbformat": 4,
 "nbformat_minor": 2
}
